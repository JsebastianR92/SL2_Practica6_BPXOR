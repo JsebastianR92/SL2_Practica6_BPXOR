{
 "cells": [
  {
   "cell_type": "markdown",
   "metadata": {},
   "source": [
    "### Sebastián Rodríguez\n",
    "### 20003076\n",
    "\n",
    "# Práctica 6 - BackPropagation XOR"
   ]
  },
  {
   "cell_type": "code",
   "execution_count": 1,
   "metadata": {},
   "outputs": [],
   "source": [
    "import numpy as np\n",
    "import matplotlib.pyplot as plt"
   ]
  },
  {
   "cell_type": "code",
   "execution_count": 10,
   "metadata": {},
   "outputs": [],
   "source": [
    "def Sigmoide(x):\n",
    "    return 1/(1+np.exp(-x))\n",
    "\n",
    "def Heavyside(x):\n",
    "    return (x >= 0).astype(np.float)\n",
    "\n",
    "def Relu(x):\n",
    "    return np.maximum(0., x)\n",
    "\n",
    "def Relu_gradiente(x):\n",
    "    return (x > 0).astype(np.float)\n",
    "\n",
    "def Activacion_Lineal(x):\n",
    "    return x\n",
    "\n",
    "def Bias_Añ(x):\n",
    "    return np.vstack((np.ones(x.shape[1]), x))\n",
    "\n",
    "def Bias_Elim(x):\n",
    "    return x[1:, :].reshape(-1, x.shape[1])"
   ]
  },
  {
   "cell_type": "code",
   "execution_count": 11,
   "metadata": {},
   "outputs": [
    {
     "data": {
      "text/plain": [
       "array([0., 0., 1., 1.])"
      ]
     },
     "execution_count": 11,
     "metadata": {},
     "output_type": "execute_result"
    }
   ],
   "source": [
    "Sigmoide(np.array([-1, 0., 1., 2.]))\n",
    "Relu(np.array([-1, 0., 1., 2.]))\n",
    "Relu_gradiente(np.array([-1, 0., 1., 2.]))"
   ]
  },
  {
   "cell_type": "code",
   "execution_count": 12,
   "metadata": {},
   "outputs": [
    {
     "data": {
      "text/plain": [
       "(array([[0., 0., 1., 1.],\n",
       "        [0., 1., 0., 1.]]),\n",
       " array([[0., 1., 1., 0.]]))"
      ]
     },
     "execution_count": 12,
     "metadata": {},
     "output_type": "execute_result"
    }
   ],
   "source": [
    "Xtrain = np.array([[0., 0.], [0., 1.], [1., 0.], [1., 1.]])\n",
    "Ytrain = np.array([0., 1., 1., 0.]).reshape(-1, 1)\n",
    "Xtrain.T, Ytrain.T"
   ]
  },
  {
   "cell_type": "code",
   "execution_count": 14,
   "metadata": {},
   "outputs": [
    {
     "data": {
      "text/plain": [
       "(array([[0., 0., 1., 1.],\n",
       "        [0., 1., 0., 1.]]),\n",
       " (2, 4))"
      ]
     },
     "execution_count": 14,
     "metadata": {},
     "output_type": "execute_result"
    }
   ],
   "source": [
    "\n",
    "Xtrain.T, Xtrain.T.shape"
   ]
  },
  {
   "cell_type": "code",
   "execution_count": null,
   "metadata": {},
   "outputs": [],
   "source": []
  },
  {
   "cell_type": "code",
   "execution_count": 13,
   "metadata": {},
   "outputs": [],
   "source": [
    "k1 = 3\n",
    "Peso1  = np.random.normal(scale=0.1, size=(k1, 3))\n",
    "k2 = 2\n",
    "Peso2 = np.random.normal(scale=0.1, size=(k2, k1+1))\n",
    "Peso3 = np.random.normal(scale=0.1, size=(1, 3))"
   ]
  },
  {
   "cell_type": "code",
   "execution_count": 32,
   "metadata": {},
   "outputs": [],
   "source": [
    "Pr1 = Bias_Añ(Xtest)\n",
    "# Primera capa oculta\n",
    "Mult_2 = np.matmul(Peso1 , Pr1)\n",
    "Pr2 = Relu(Mult_2)\n",
    "# Segunda capa oculta\n",
    "Pr2 = Bias_Añ(Pr2)\n",
    "Mult_3 = np.matmul(Peso2, Pr2)\n",
    "Pr3 = Relu(Mult_3)\n",
    "# Capa de salida\n",
    "Pr3 = Bias_Añ(Pr3)\n",
    "Mult_4 = np.matmul(Peso3, Pr3)\n",
    "Pr4 = Activacion_Lineal(Mult_4)"
   ]
  },
  {
   "cell_type": "code",
   "execution_count": 33,
   "metadata": {},
   "outputs": [],
   "source": [
    "def Forw_Prop(X, Theta1, Theta2, Theta3, retHidden=False):\n",
    "    # Primera capa oculta\n",
    "    Mult_2 = np.matmul(Theta1, addBias(X))\n",
    "    Pr2 = ReLU(Mult_2)\n",
    "    # Segunda capa oculta\n",
    "    Mult_3 = np.matmul(Theta2, addBias(Pr2))\n",
    "    Pr3 = ReLU(Mult_3)\n",
    "    # Capa de salida\n",
    "    Mult_4 = np.matmul(Theta3, addBias(Pr3))\n",
    "    Pr4 = linearAct(Mult_4)\n",
    "    \n",
    "    if retHidden:\n",
    "        return Pr3, Pr4\n",
    "    \n",
    "    return Pr4"
   ]
  },
  {
   "cell_type": "code",
   "execution_count": 17,
   "metadata": {},
   "outputs": [
    {
     "data": {
      "text/plain": [
       "array([[-0.15652586],\n",
       "       [-0.08168957],\n",
       "       [ 0.07632874]])"
      ]
     },
     "execution_count": 17,
     "metadata": {},
     "output_type": "execute_result"
    }
   ],
   "source": [
    "Mult_2"
   ]
  },
  {
   "cell_type": "code",
   "execution_count": 18,
   "metadata": {},
   "outputs": [
    {
     "data": {
      "text/plain": [
       "array([[ 0.0761929 ],\n",
       "       [-0.18587892]])"
      ]
     },
     "execution_count": 18,
     "metadata": {},
     "output_type": "execute_result"
    }
   ],
   "source": [
    "Mult_3"
   ]
  },
  {
   "cell_type": "code",
   "execution_count": 19,
   "metadata": {},
   "outputs": [
    {
     "data": {
      "text/plain": [
       "array([[1.       ],\n",
       "       [0.0761929],\n",
       "       [0.       ]])"
      ]
     },
     "execution_count": 19,
     "metadata": {},
     "output_type": "execute_result"
    }
   ],
   "source": [
    "Pr3"
   ]
  },
  {
   "cell_type": "code",
   "execution_count": 21,
   "metadata": {},
   "outputs": [
    {
     "data": {
      "text/plain": [
       "array([[0.06977349]])"
      ]
     },
     "execution_count": 21,
     "metadata": {},
     "output_type": "execute_result"
    }
   ],
   "source": [
    "Mult_4"
   ]
  },
  {
   "cell_type": "code",
   "execution_count": 22,
   "metadata": {},
   "outputs": [
    {
     "data": {
      "text/plain": [
       "array([[0.06977349]])"
      ]
     },
     "execution_count": 22,
     "metadata": {},
     "output_type": "execute_result"
    }
   ],
   "source": [
    "Pr4"
   ]
  },
  {
   "cell_type": "code",
   "execution_count": 23,
   "metadata": {},
   "outputs": [
    {
     "data": {
      "text/plain": [
       "array([[-0.93022651]])"
      ]
     },
     "execution_count": 23,
     "metadata": {},
     "output_type": "execute_result"
    }
   ],
   "source": [
    "Out4 = Pr4 - Ytest\n",
    "Out4"
   ]
  },
  {
   "cell_type": "code",
   "execution_count": 24,
   "metadata": {},
   "outputs": [
    {
     "data": {
      "text/plain": [
       "array([[ 0.03041673],\n",
       "       [-0.        ]])"
      ]
     },
     "execution_count": 24,
     "metadata": {},
     "output_type": "execute_result"
    }
   ],
   "source": [
    "Out3 = np.matmul(Peso3.T[1:], Out4) * Relu_gradiente(Mult_3)\n",
    "Out3"
   ]
  },
  {
   "cell_type": "code",
   "execution_count": 25,
   "metadata": {},
   "outputs": [
    {
     "data": {
      "text/plain": [
       "array([[-0.        ],\n",
       "       [ 0.        ],\n",
       "       [-0.00056275]])"
      ]
     },
     "execution_count": 25,
     "metadata": {},
     "output_type": "execute_result"
    }
   ],
   "source": [
    "Out2 = np.matmul(Peso2.T[1:, :], Out3) * Relu_gradiente(Mult_2)\n",
    "Out2"
   ]
  },
  {
   "cell_type": "code",
   "execution_count": 27,
   "metadata": {},
   "outputs": [],
   "source": [
    "Delta3 = np.matmul(Out4, Pr3.T)\n",
    "Delta2 = np.matmul(Out3, Pr2.T)\n",
    "Delta1 = np.matmul(Out2, Pr1.T)"
   ]
  },
  {
   "cell_type": "code",
   "execution_count": 28,
   "metadata": {},
   "outputs": [
    {
     "data": {
      "text/plain": [
       "(array([[ 0.        ,  0.        ,  0.        ],\n",
       "        [ 0.        ,  0.        ,  0.        ],\n",
       "        [-0.00056275,  0.        , -0.00056275]]),\n",
       " array([[0.03041673, 0.        , 0.        , 0.00232167],\n",
       "        [0.        , 0.        , 0.        , 0.        ]]),\n",
       " array([[-0.93022651, -0.07087665,  0.        ]]))"
      ]
     },
     "execution_count": 28,
     "metadata": {},
     "output_type": "execute_result"
    }
   ],
   "source": [
    "Delta1,Delta2,Delta3"
   ]
  },
  {
   "cell_type": "code",
   "execution_count": 34,
   "metadata": {},
   "outputs": [
    {
     "data": {
      "text/plain": [
       "(0.21746444857454036,\n",
       " array([[-0.00116276, -0.00058127,  0.        ],\n",
       "        [ 0.00072196,  0.00072196,  0.00036105],\n",
       "        [-0.0005627 , -0.00028132, -0.00028138]]),\n",
       " array([[0.03041395, 0.00122889, 0.00022459, 0.00209485],\n",
       "        [0.        , 0.        , 0.        , 0.        ]]),\n",
       " array([[-0.93014142, -0.06845052,  0.        ]]))"
      ]
     },
     "execution_count": 34,
     "metadata": {},
     "output_type": "execute_result"
    }
   ],
   "source": [
    "def Costo_Fn(X, Y, Peso1 , Peso2, Peso3):\n",
    "    m = X.shape[0]\n",
    "    error = Forw_Prop(X.T, Peso1 , Peso2, Peso3).T - Y\n",
    "    J = np.mean(np.power(error, 2)) / 2\n",
    "    Delta1 = np.zeros_like(Peso1 )\n",
    "    Delta2 = np.zeros_like(Peso2)\n",
    "    Delta3 = np.zeros_like(Peso3)\n",
    "\n",
    "    for i in range(m):\n",
    "        Xi = X[i, :].reshape(-1, 1)\n",
    "        Pr1 = Bias_Añ(Xi)\n",
    "        Mult_2 = np.matmul(Peso1 , Pr1)\n",
    "        Pr2 = Relu(Mult_2)\n",
    "        Pr2 = Bias_Añ(Pr2)\n",
    "        Mult_3 = np.matmul(Peso2, Pr2)\n",
    "        Pr3 = Relu(Mult_3)\n",
    "        Pr3 = Bias_Añ(Pr3)\n",
    "        Mult_4 = np.matmul(Peso3, Pr3)\n",
    "        Pr4 = Activacion_Lineal(Mult_4)\n",
    "        Out4 = Pr4 - Ytest\n",
    "        Out3 = np.matmul(Peso3.T[1:], Out4) * Relu_gradiente(Mult_3)\n",
    "        Out2 = np.matmul(Peso2.T[1:, :], Out3) * Relu_gradiente(Mult_2)\n",
    "        \n",
    "        Delta3 += np.matmul(Out4, Pr3.T)\n",
    "        Delta2 += np.matmul(Out3, Pr2.T)\n",
    "        Delta1 += np.matmul(Out2, Pr1.T)\n",
    "    \n",
    "    Peso1_grad = Delta1 / m\n",
    "    Peso2_grad = Delta2 / m\n",
    "    Peso3_grad = Delta3 / m\n",
    "\n",
    "    return J, Peso1_grad, Peso2_grad, Peso3_grad\n",
    "\n",
    "Costo_Fn(Xtrain, Ytrain, Peso1 , Peso2, Peso3)"
   ]
  },
  {
   "cell_type": "code",
   "execution_count": 51,
   "metadata": {},
   "outputs": [],
   "source": [
    "def Entrenamiento(X, Y, k1=3, k2=2, epochs=10000, lr=0.001, statusRate=25):\n",
    "    \n",
    "    n = X.shape[1]\n",
    "    Peso1  = np.random.normal(scale=0.05, size=(k1, n+1))\n",
    "    Peso2 = np.random.normal(scale=0.05, size=(k2, k1+1))\n",
    "    Peso3 = np.random.normal(scale=0.05, size=(1, 3))\n",
    "\n",
    "    for j in range(1, epochs+1):\n",
    "        J, Peso1_grad, Peso2_grad, Peso3_grad = Costo_Fn(X, Y, Peso1 , Peso2, Peso3)\n",
    "        \n",
    "        if (j % statusRate == 0):\n",
    "            print(\"Iteración: %d,\\tCosto: %0.2f\" % (j, J))\n",
    "        \n",
    "        Peso1  += -lr * Peso1_grad\n",
    "        Peso2 += -lr * Peso2_grad\n",
    "        Peso3 += -lr * Peso3_grad\n",
    "\n",
    "    return Peso1 , Peso2, Peso3\n",
    "\n",
    "\n"
   ]
  },
  {
   "cell_type": "code",
   "execution_count": 59,
   "metadata": {},
   "outputs": [
    {
     "name": "stdout",
     "output_type": "stream",
     "text": [
      "Iteración: 1000,\tCosto: 0.23\n",
      "Iteración: 2000,\tCosto: 0.23\n",
      "Iteración: 3000,\tCosto: 0.23\n",
      "Iteración: 4000,\tCosto: 0.22\n",
      "Iteración: 5000,\tCosto: 0.22\n",
      "Iteración: 6000,\tCosto: 0.21\n",
      "Iteración: 7000,\tCosto: 0.21\n",
      "Iteración: 8000,\tCosto: 0.21\n",
      "Iteración: 9000,\tCosto: 0.20\n",
      "Iteración: 10000,\tCosto: 0.20\n"
     ]
    }
   ],
   "source": [
    "Peso1_trained, Peso2_trained, Peso3_trained = Entrenamiento(Xtrain, Ytrain, epochs=10000, lr=0.00001, statusRate=1000)"
   ]
  },
  {
   "cell_type": "code",
   "execution_count": 60,
   "metadata": {},
   "outputs": [
    {
     "name": "stdout",
     "output_type": "stream",
     "text": [
      "Iteración: 1000,\tCosto: 0.22\n",
      "Iteración: 2000,\tCosto: 0.19\n",
      "Iteración: 3000,\tCosto: 0.16\n",
      "Iteración: 4000,\tCosto: 0.14\n",
      "Iteración: 5000,\tCosto: 0.13\n",
      "Iteración: 6000,\tCosto: 0.13\n",
      "Iteración: 7000,\tCosto: 0.13\n",
      "Iteración: 8000,\tCosto: 0.13\n",
      "Iteración: 9000,\tCosto: 0.13\n",
      "Iteración: 10000,\tCosto: 0.13\n"
     ]
    }
   ],
   "source": [
    "Peso11_trained, Peso22_trained, Peso33_trained = Entrenamiento(Xtrain, Ytrain, epochs=10000, lr=0.0001, statusRate=1000)"
   ]
  },
  {
   "cell_type": "code",
   "execution_count": 61,
   "metadata": {},
   "outputs": [
    {
     "name": "stdout",
     "output_type": "stream",
     "text": [
      "Iteración: 1000,\tCosto: 0.13\n",
      "Iteración: 2000,\tCosto: 0.19\n",
      "Iteración: 3000,\tCosto: 0.23\n",
      "Iteración: 4000,\tCosto: 0.24\n",
      "Iteración: 5000,\tCosto: 0.25\n",
      "Iteración: 6000,\tCosto: 0.25\n",
      "Iteración: 7000,\tCosto: 0.25\n",
      "Iteración: 8000,\tCosto: 0.25\n",
      "Iteración: 9000,\tCosto: 0.25\n",
      "Iteración: 10000,\tCosto: 0.25\n"
     ]
    }
   ],
   "source": [
    "Peso12_trained, Peso23_trained, Peso34_trained = Entrenamiento(Xtrain, Ytrain, epochs=10000, lr=0.001, statusRate=1000)"
   ]
  },
  {
   "cell_type": "code",
   "execution_count": 62,
   "metadata": {},
   "outputs": [
    {
     "name": "stdout",
     "output_type": "stream",
     "text": [
      "Iteración: 1000,\tCosto: 0.25\n",
      "Iteración: 2000,\tCosto: 0.25\n",
      "Iteración: 3000,\tCosto: 0.25\n",
      "Iteración: 4000,\tCosto: 0.25\n",
      "Iteración: 5000,\tCosto: 0.25\n",
      "Iteración: 6000,\tCosto: 0.25\n",
      "Iteración: 7000,\tCosto: 0.25\n",
      "Iteración: 8000,\tCosto: 0.25\n",
      "Iteración: 9000,\tCosto: 0.25\n",
      "Iteración: 10000,\tCosto: 0.25\n"
     ]
    }
   ],
   "source": [
    "Peso13_trained, Peso24_trained, Peso35_trained = Entrenamiento(Xtrain, Ytrain, epochs=10000, lr=0.01, statusRate=1000)"
   ]
  },
  {
   "cell_type": "code",
   "execution_count": 63,
   "metadata": {},
   "outputs": [
    {
     "name": "stdout",
     "output_type": "stream",
     "text": [
      "Iteración: 1000,\tCosto: 0.25\n",
      "Iteración: 2000,\tCosto: 0.25\n",
      "Iteración: 3000,\tCosto: 0.25\n",
      "Iteración: 4000,\tCosto: 0.25\n",
      "Iteración: 5000,\tCosto: 0.25\n",
      "Iteración: 6000,\tCosto: 0.25\n",
      "Iteración: 7000,\tCosto: 0.25\n",
      "Iteración: 8000,\tCosto: 0.25\n",
      "Iteración: 9000,\tCosto: 0.25\n",
      "Iteración: 10000,\tCosto: 0.25\n"
     ]
    }
   ],
   "source": [
    "Peso14_trained, Peso25_trained, Peso36_trained = Entrenamiento(Xtrain, Ytrain, epochs=10000, lr=0.1, statusRate=1000)"
   ]
  },
  {
   "cell_type": "code",
   "execution_count": 64,
   "metadata": {},
   "outputs": [
    {
     "name": "stdout",
     "output_type": "stream",
     "text": [
      "Iteración: 1000,\tCosto: 0.25\n",
      "Iteración: 2000,\tCosto: 0.25\n",
      "Iteración: 3000,\tCosto: 0.25\n",
      "Iteración: 4000,\tCosto: 0.25\n",
      "Iteración: 5000,\tCosto: 0.25\n",
      "Iteración: 6000,\tCosto: 0.25\n",
      "Iteración: 7000,\tCosto: 0.25\n",
      "Iteración: 8000,\tCosto: 0.25\n",
      "Iteración: 9000,\tCosto: 0.25\n",
      "Iteración: 10000,\tCosto: 0.25\n"
     ]
    }
   ],
   "source": [
    "Peso15_trained, Peso26_trained, Peso37_trained = Entrenamiento(Xtrain, Ytrain, epochs=10000, lr=1, statusRate=1000)"
   ]
  },
  {
   "cell_type": "code",
   "execution_count": 68,
   "metadata": {},
   "outputs": [
    {
     "data": {
      "text/plain": [
       "(array([[ 0.03423321,  0.08960198,  0.00335164],\n",
       "        [-0.0012777 , -0.07807177, -0.05086983],\n",
       "        [ 0.01250057,  0.01538262, -0.02558423]]),\n",
       " array([[ 0.01704384, -0.07368514,  0.00077538, -0.01124891],\n",
       "        [ 0.00378475, -0.00718685,  0.00346556,  0.01592103]]),\n",
       " array([[ 0.11716077, -0.05770662,  0.02131633]]))"
      ]
     },
     "execution_count": 68,
     "metadata": {},
     "output_type": "execute_result"
    }
   ],
   "source": [
    "Peso1_trained, Peso2_trained, Peso3_trained"
   ]
  },
  {
   "cell_type": "code",
   "execution_count": 69,
   "metadata": {},
   "outputs": [
    {
     "data": {
      "text/plain": [
       "(array([[ 0.04360357,  0.02980266,  0.00760968],\n",
       "        [-0.04633844,  0.09659006,  0.0408831 ],\n",
       "        [-0.07842745,  0.03099959,  0.02951082]]),\n",
       " array([[-0.01753275, -0.03017647, -0.02621957, -0.01509838],\n",
       "        [-0.01163356, -0.03624463, -0.03738136,  0.01151821]]),\n",
       " array([[ 0.6195163 , -0.00617195,  0.05253751]]))"
      ]
     },
     "execution_count": 69,
     "metadata": {},
     "output_type": "execute_result"
    }
   ],
   "source": [
    "Peso11_trained, Peso22_trained, Peso33_trained"
   ]
  },
  {
   "cell_type": "code",
   "execution_count": 70,
   "metadata": {},
   "outputs": [
    {
     "data": {
      "text/plain": [
       "(array([[-0.03452842,  0.09026712,  0.02574108],\n",
       "        [-0.09827522, -0.00238472, -0.00119771],\n",
       "        [-0.03073116, -0.1219337 ,  0.0054923 ]]),\n",
       " array([[-0.09761807, -0.00256899,  0.08651807,  0.01633372],\n",
       "        [ 0.14967002, -0.02021046, -0.02737555, -0.04695716]]),\n",
       " array([[0.98202938, 0.03110727, 0.12040717]]))"
      ]
     },
     "execution_count": 70,
     "metadata": {},
     "output_type": "execute_result"
    }
   ],
   "source": [
    "Peso12_trained, Peso23_trained, Peso34_trained"
   ]
  },
  {
   "cell_type": "code",
   "execution_count": 71,
   "metadata": {},
   "outputs": [
    {
     "data": {
      "text/plain": [
       "(array([[-0.01501276,  0.06640893, -0.08309034],\n",
       "        [ 0.06703997, -0.02802883, -0.08547234],\n",
       "        [ 0.08053407,  0.02800721, -0.07730258]]),\n",
       " array([[-0.01121672, -0.00038405,  0.01725671, -0.02219102],\n",
       "        [-0.01108441,  0.04837065, -0.02002753,  0.01099418]]),\n",
       " array([[1.        , 0.04355743, 0.03256781]]))"
      ]
     },
     "execution_count": 71,
     "metadata": {},
     "output_type": "execute_result"
    }
   ],
   "source": [
    "Peso13_trained, Peso24_trained, Peso35_trained"
   ]
  },
  {
   "cell_type": "code",
   "execution_count": 72,
   "metadata": {},
   "outputs": [
    {
     "data": {
      "text/plain": [
       "(array([[-0.02253308, -0.00149521, -0.03418293],\n",
       "        [ 0.02079301, -0.03302594, -0.03955684],\n",
       "        [ 0.02674257, -0.00346735,  0.04230885]]),\n",
       " array([[-0.00034781, -0.0033939 ,  0.00722271,  0.03404839],\n",
       "        [-0.01997892, -0.0030802 ,  0.08660252, -0.0001333 ]]),\n",
       " array([[ 1.00002466, -0.01954563,  0.02380642]]))"
      ]
     },
     "execution_count": 72,
     "metadata": {},
     "output_type": "execute_result"
    }
   ],
   "source": [
    "Peso14_trained, Peso25_trained, Peso36_trained"
   ]
  },
  {
   "cell_type": "code",
   "execution_count": 73,
   "metadata": {},
   "outputs": [
    {
     "data": {
      "text/plain": [
       "(array([[-0.10285099,  0.05734495, -0.0091313 ],\n",
       "        [ 0.0021732 ,  0.00013662,  0.05174258],\n",
       "        [ 0.05377207, -0.01635041,  0.01603611]]),\n",
       " array([[-0.02751513, -0.02496675,  0.03647797, -0.07104028],\n",
       "        [ 0.04347643, -0.04672627, -0.06172987, -0.04105341]]),\n",
       " array([[0.9985308 , 0.01883599, 0.03715724]]))"
      ]
     },
     "execution_count": 73,
     "metadata": {},
     "output_type": "execute_result"
    }
   ],
   "source": [
    "Peso15_trained, Peso26_trained, Peso37_trained"
   ]
  },
  {
   "cell_type": "code",
   "execution_count": 74,
   "metadata": {},
   "outputs": [],
   "source": [
    "def Graficos(X, Peso1 , Peso2, Peso3):\n",
    "    def Grafico_N(x1, x2, y):\n",
    "        f = np.abs(y-1) < 0.4\n",
    "        nf = np.logical_not(f)\n",
    "\n",
    "        plt.scatter(x1[f], x2[f], marker='*', label='1')\n",
    "        plt.scatter(x1[nf], x2[nf], marker='o', label='0')\n",
    "        plt.legend()\n",
    "    Pr3, Pr4 = Forw_Prop(X.T, \n",
    "           Peso1 , Peso2, Peso3, \n",
    "           retHidden=True)\n",
    "    x1 = X.T[0]\n",
    "    x2 = X.T[1]\n",
    "\n",
    "    plt.figure(figsize=(16, 4))\n",
    "    plt.subplot(1,3,1)\n",
    "    Grafico_N(x1, x2, Pr3[0])\n",
    "    plt.title(\"Pr3_1\")\n",
    "    plt.subplot(1,3,2)\n",
    "    Grafico_N(x1, x2, Pr3[1])\n",
    "    plt.title(\"Pr3_2\")\n",
    "    plt.subplot(1,3,3)\n",
    "    Grafico_N(x1, x2, Pr4[0])\n",
    "    plt.title(\"Pr4\");"
   ]
  },
  {
   "cell_type": "code",
   "execution_count": 75,
   "metadata": {},
   "outputs": [
    {
     "data": {
      "image/png": "[encoded data removed]",
      "text/plain": [
       "<Figure size 1152x288 with 3 Axes>"
      ]
     },
     "metadata": {
      "needs_background": "light"
     },
     "output_type": "display_data"
    }
   ],
   "source": [
    "Graficos(Xtrain, Peso1_trained, Peso2_trained, Peso3_trained)"
   ]
  },
  {
   "cell_type": "code",
   "execution_count": 76,
   "metadata": {},
   "outputs": [
    {
     "data": {
      "image/png": "[encoded data removed]",
      "text/plain": [
       "<Figure size 1152x288 with 3 Axes>"
      ]
     },
     "metadata": {
      "needs_background": "light"
     },
     "output_type": "display_data"
    }
   ],
   "source": [
    "Graficos(Xtrain, Peso11_trained, Peso22_trained, Peso33_trained)"
   ]
  },
  {
   "cell_type": "code",
   "execution_count": 78,
   "metadata": {},
   "outputs": [
    {
     "data": {
      "image/png": "[encoded data removed]",
      "text/plain": [
       "<Figure size 1152x288 with 3 Axes>"
      ]
     },
     "metadata": {
      "needs_background": "light"
     },
     "output_type": "display_data"
    }
   ],
   "source": [
    "Graficos(Xtrain, Peso12_trained, Peso23_trained, Peso34_trained)"
   ]
  },
  {
   "cell_type": "code",
   "execution_count": 80,
   "metadata": {},
   "outputs": [
    {
     "data": {
      "image/png": "[encoded data removed]",
      "text/plain": [
       "<Figure size 1152x288 with 3 Axes>"
      ]
     },
     "metadata": {
      "needs_background": "light"
     },
     "output_type": "display_data"
    }
   ],
   "source": [
    "Graficos(Xtrain, Peso13_trained, Peso24_trained, Peso35_trained)"
   ]
  },
  {
   "cell_type": "code",
   "execution_count": 81,
   "metadata": {},
   "outputs": [
    {
     "data": {
      "image/png": "[encoded data removed]",
      "text/plain": [
       "<Figure size 1152x288 with 3 Axes>"
      ]
     },
     "metadata": {
      "needs_background": "light"
     },
     "output_type": "display_data"
    }
   ],
   "source": [
    "Graficos(Xtrain, Peso14_trained, Peso25_trained, Peso36_trained)"
   ]
  },
  {
   "cell_type": "code",
   "execution_count": 82,
   "metadata": {},
   "outputs": [
    {
     "data": {
      "image/png": "[encoded data removed]",
      "text/plain": [
       "<Figure size 1152x288 with 3 Axes>"
      ]
     },
     "metadata": {
      "needs_background": "light"
     },
     "output_type": "display_data"
    }
   ],
   "source": [
    "Graficos(Xtrain, Peso15_trained, Peso26_trained, Peso37_trained)"
   ]
  },
  {
   "cell_type": "markdown",
   "metadata": {},
   "source": [
    "# Conclusión\n",
    "\n",
    "Podemos apreciar que posiblemente la función de activación en la capa de salida no es la ideal para reducir la función de costo. Posiblemente sea un caso debido al XOR y la forma en la que entrena con esta función por lo que utilizar una función sigmoidal o HeavySide puede hacer la diferencia para reducir los parámetros obtenidos en la fC."
   ]
  },
  {
   "cell_type": "code",
   "execution_count": null,
   "metadata": {},
   "outputs": [],
   "source": []
  }
 ],
 "metadata": {
  "kernelspec": {
   "display_name": "Python 3",
   "language": "python",
   "name": "python3"
  },
  "language_info": {
   "codemirror_mode": {
    "name": "ipython",
    "version": 3
   },
   "file_extension": ".py",
   "mimetype": "text/x-python",
   "name": "python",
   "nbconvert_exporter": "python",
   "pygments_lexer": "ipython3",
   "version": "3.7.6"
  }
 },
 "nbformat": 4,
 "nbformat_minor": 4
}
